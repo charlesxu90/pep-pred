{
 "cells": [
  {
   "attachments": {},
   "cell_type": "markdown",
   "id": "ef13a68b",
   "metadata": {},
   "source": [
    "Process dataset to obtain multimodal inputs"
   ]
  },
  {
   "attachments": {},
   "cell_type": "markdown",
   "id": "ba795da7",
   "metadata": {},
   "source": [
    "# Import dependency"
   ]
  },
  {
   "cell_type": "code",
   "execution_count": 2,
   "id": "1514da42",
   "metadata": {},
   "outputs": [],
   "source": [
    "import pandas as pd\n",
    "from rdkit import RDLogger\n",
    "from IPython.display import display\n",
    "from rdkit import Chem\n",
    "from rdkit.Chem import Draw\n",
    "from utils.helm_utils import get_cycpep_smi_from_helm\n",
    "\n",
    "pd.set_option('display.max_colwidth', None)\n",
    "\n",
    "def show_mol_from_smi_large(smi):\n",
    "    mol = Chem.MolFromSmiles(smi)\n",
    "    img = Draw.MolToImage(mol, size=(800, 800))\n",
    "    display(img)\n",
    "\n",
    "def count_n_monomers(helm):\n",
    "    return len(helm.split('.')) + len(helm.split('{')) - 2\n",
    "\n",
    "train = False"
   ]
  },
  {
   "attachments": {},
   "cell_type": "markdown",
   "id": "18d2d19b",
   "metadata": {},
   "source": [
    "# Cyclic peptides"
   ]
  },
  {
   "attachments": {},
   "cell_type": "markdown",
   "id": "18cc8984",
   "metadata": {},
   "source": [
    "## Load Monomer dict"
   ]
  },
  {
   "attachments": {},
   "cell_type": "markdown",
   "id": "6d17ff71",
   "metadata": {},
   "source": [
    "## Process all HELMS in DF to get SMILES"
   ]
  },
  {
   "cell_type": "code",
   "execution_count": 3,
   "id": "3a800b5d",
   "metadata": {},
   "outputs": [
    {
     "data": {
      "text/html": [
       "<div>\n",
       "<style scoped>\n",
       "    .dataframe tbody tr th:only-of-type {\n",
       "        vertical-align: middle;\n",
       "    }\n",
       "\n",
       "    .dataframe tbody tr th {\n",
       "        vertical-align: top;\n",
       "    }\n",
       "\n",
       "    .dataframe thead th {\n",
       "        text-align: right;\n",
       "    }\n",
       "</style>\n",
       "<table border=\"1\" class=\"dataframe\">\n",
       "  <thead>\n",
       "    <tr style=\"text-align: right;\">\n",
       "      <th></th>\n",
       "      <th>smi</th>\n",
       "      <th>helm</th>\n",
       "      <th>n_mono</th>\n",
       "      <th>score</th>\n",
       "    </tr>\n",
       "  </thead>\n",
       "  <tbody>\n",
       "    <tr>\n",
       "      <th>0</th>\n",
       "      <td>CCCC[C@@H]1NC(=O)[C@H](CC(C)C)N(C)C(=O)CN(CCOc2ccccc2)C(=O)[C@H](C)NC(=O)CN(Cc2ccccc2Cn2cccn2)C(=O)[C@H]2CCCN2C1=O</td>\n",
       "      <td>PEPTIDE1{A.[Mono39].[meL].[Nle].[dP].[Mono45]}$PEPTIDE1,PEPTIDE1,1:R1-6:R2$$$</td>\n",
       "      <td>6</td>\n",
       "      <td>-5.38</td>\n",
       "    </tr>\n",
       "    <tr>\n",
       "      <th>1</th>\n",
       "      <td>CCCC[C@@H]1NC(=O)[C@@H](CC(C)C)N(C)C(=O)CN(CC2CCOCC2)C(=O)[C@@H](C)NC(=O)CN(Cc2ccc3c(c2)OCO3)C(=O)[C@@H]2CCCN2C1=O</td>\n",
       "      <td>PEPTIDE1{[dA].[Mono38].[Me_dL].[Nle].P.[Mono1]}$PEPTIDE1,PEPTIDE1,1:R1-6:R2$$$</td>\n",
       "      <td>6</td>\n",
       "      <td>-6.64</td>\n",
       "    </tr>\n",
       "    <tr>\n",
       "      <th>2</th>\n",
       "      <td>CC(C)C[C@@H]1C(=O)N[C@H](CC(C)C)C(=O)N2CCC[C@H]2C(=O)N(Cc2ccccc2)CC(=O)N[C@@H](Cc2ccccc2)C(=O)N2CCC[C@@H]2C(=O)N(C)[C@@H](C)C(=O)N1C</td>\n",
       "      <td>PEPTIDE1{[dP].[meA].[Me_dL].[dL].P.[Bn_Gly].F}$PEPTIDE1,PEPTIDE1,1:R1-7:R2$$$</td>\n",
       "      <td>7</td>\n",
       "      <td>-10.00</td>\n",
       "    </tr>\n",
       "    <tr>\n",
       "      <th>3</th>\n",
       "      <td>CCCN1CC(=O)N[C@@H](CC(C)C)C(=O)N[C@H](CC(C)C)C(=O)N2CCC[C@H]2C(=O)N[C@H](CC(C)C)C(=O)N[C@@H](Cc2ccccc2)C(=O)N2CCC[C@H]2C1=O</td>\n",
       "      <td>PEPTIDE1{P.[Pr_Gly].L.[dL].P.[dL].F}$PEPTIDE1,PEPTIDE1,1:R1-7:R2$$$</td>\n",
       "      <td>7</td>\n",
       "      <td>-5.89</td>\n",
       "    </tr>\n",
       "    <tr>\n",
       "      <th>4</th>\n",
       "      <td>CC(=O)N1CCC[C@H]1C(=O)N[C@@H]1C(=O)N(C)[C@H](CC(C)C)C(=O)N[C@@H](CC(C)C)C(=O)N(C)[C@H](CC(C)C)C(=O)N[C@H](CC(C)C)C(=O)N(C)[C@H](C)C(=O)N[C@@H](CC(C)C)C(=O)N2CCC[C@@H]2C(=O)O[C@@H]1C</td>\n",
       "      <td>PEPTIDE1{[ac-].P.T.[Me_dL].L.[Me_dL].[dL].[Me_dA].L.[dP]}$PEPTIDE1,PEPTIDE1,3:R3-10:R2$$$</td>\n",
       "      <td>10</td>\n",
       "      <td>-5.00</td>\n",
       "    </tr>\n",
       "  </tbody>\n",
       "</table>\n",
       "</div>"
      ],
      "text/plain": [
       "                                                                                                                                                                                     smi  \\\n",
       "0                                                                     CCCC[C@@H]1NC(=O)[C@H](CC(C)C)N(C)C(=O)CN(CCOc2ccccc2)C(=O)[C@H](C)NC(=O)CN(Cc2ccccc2Cn2cccn2)C(=O)[C@H]2CCCN2C1=O   \n",
       "1                                                                     CCCC[C@@H]1NC(=O)[C@@H](CC(C)C)N(C)C(=O)CN(CC2CCOCC2)C(=O)[C@@H](C)NC(=O)CN(Cc2ccc3c(c2)OCO3)C(=O)[C@@H]2CCCN2C1=O   \n",
       "2                                                   CC(C)C[C@@H]1C(=O)N[C@H](CC(C)C)C(=O)N2CCC[C@H]2C(=O)N(Cc2ccccc2)CC(=O)N[C@@H](Cc2ccccc2)C(=O)N2CCC[C@@H]2C(=O)N(C)[C@@H](C)C(=O)N1C   \n",
       "3                                                            CCCN1CC(=O)N[C@@H](CC(C)C)C(=O)N[C@H](CC(C)C)C(=O)N2CCC[C@H]2C(=O)N[C@H](CC(C)C)C(=O)N[C@@H](Cc2ccccc2)C(=O)N2CCC[C@H]2C1=O   \n",
       "4  CC(=O)N1CCC[C@H]1C(=O)N[C@@H]1C(=O)N(C)[C@H](CC(C)C)C(=O)N[C@@H](CC(C)C)C(=O)N(C)[C@H](CC(C)C)C(=O)N[C@H](CC(C)C)C(=O)N(C)[C@H](C)C(=O)N[C@@H](CC(C)C)C(=O)N2CCC[C@@H]2C(=O)O[C@@H]1C   \n",
       "\n",
       "                                                                                        helm  \\\n",
       "0              PEPTIDE1{A.[Mono39].[meL].[Nle].[dP].[Mono45]}$PEPTIDE1,PEPTIDE1,1:R1-6:R2$$$   \n",
       "1             PEPTIDE1{[dA].[Mono38].[Me_dL].[Nle].P.[Mono1]}$PEPTIDE1,PEPTIDE1,1:R1-6:R2$$$   \n",
       "2              PEPTIDE1{[dP].[meA].[Me_dL].[dL].P.[Bn_Gly].F}$PEPTIDE1,PEPTIDE1,1:R1-7:R2$$$   \n",
       "3                        PEPTIDE1{P.[Pr_Gly].L.[dL].P.[dL].F}$PEPTIDE1,PEPTIDE1,1:R1-7:R2$$$   \n",
       "4  PEPTIDE1{[ac-].P.T.[Me_dL].L.[Me_dL].[dL].[Me_dA].L.[dP]}$PEPTIDE1,PEPTIDE1,3:R3-10:R2$$$   \n",
       "\n",
       "   n_mono  score  \n",
       "0       6  -5.38  \n",
       "1       6  -6.64  \n",
       "2       7 -10.00  \n",
       "3       7  -5.89  \n",
       "4      10  -5.00  "
      ]
     },
     "metadata": {},
     "output_type": "display_data"
    }
   ],
   "source": [
    "# train = True\n",
    "\n",
    "if train:\n",
    "    df_cycpdb = pd.read_csv('data/CycPeptMPDB/CycPeptMPDB_Peptide_All_flt.csv')\n",
    "    df_cycpdb['smi'] = [get_cycpep_smi_from_helm(helm) for helm in df_cycpdb.HELM]\n",
    "    len(df_cycpdb[df_cycpdb.smi.isna()]), len(df_cycpdb)\n",
    "    display(df_cycpdb.helm_len.hist())\n",
    "    display(df_cycpdb['Permeability'].hist(bins=50))\n",
    "    \n",
    "    # Split df_cycpdb into train, test\n",
    "    df_cycpdb_all = df_cycpdb[['smi', 'HELM', 'Permeability']].rename(columns={'HELM': 'helm', 'Permeability': 'score'})\n",
    "    df_cycpdb_all['n_mono'] = [count_n_monomers(helm) for helm in df_cycpdb_all.helm]\n",
    "\n",
    "    df_cycpdb_all[['smi', 'helm', 'n_mono', 'score']].to_csv('data/CycPeptMPDB/all.csv', index=False)\n",
    "\n",
    "    # Split df_cycpdb into train, test\n",
    "    from sklearn.model_selection import train_test_split\n",
    "\n",
    "    df_cycpdb_train, df_cycpdb_test = train_test_split(df_cycpdb_all, test_size=0.2, random_state=42)\n",
    "\n",
    "    df_cycpdb_train[['smi', 'helm', 'score']].to_csv('data/CycPeptMPDB/train.csv', index=False)\n",
    "    df_cycpdb_test[['smi', 'helm', 'score']].to_csv('data/CycPeptMPDB/test.csv', index=False)\n",
    "else:\n",
    "    df_cycpdb_all = pd.read_csv('data/CycPeptMPDB/all.csv')\n",
    "    df_cycpdb_train = pd.read_csv('data/CycPeptMPDB/train.csv')\n",
    "    df_cycpdb_test = pd.read_csv('data/CycPeptMPDB/test.csv')\n",
    "\n",
    "display(df_cycpdb_train.head())\n",
    "# df_cycpdb_train.sample(1).apply(lambda x: show_mol_from_smi_large(x['smi']), axis=1)"
   ]
  },
  {
   "cell_type": "code",
   "execution_count": 4,
   "id": "2aa07992",
   "metadata": {},
   "outputs": [
    {
     "data": {
      "text/plain": [
       "<AxesSubplot:>"
      ]
     },
     "metadata": {},
     "output_type": "display_data"
    },
    {
     "data": {
      "image/png": "[encoded data removed]",
      "text/plain": [
       "<Figure size 640x480 with 1 Axes>"
      ]
     },
     "metadata": {},
     "output_type": "display_data"
    }
   ],
   "source": [
    "display(df_cycpdb_all['score'].hist(bins=50))"
   ]
  },
  {
   "cell_type": "code",
   "execution_count": 5,
   "id": "aef6afde",
   "metadata": {},
   "outputs": [
    {
     "data": {
      "text/plain": [
       "<AxesSubplot:>"
      ]
     },
     "metadata": {},
     "output_type": "display_data"
    },
    {
     "data": {
      "image/png": "[encoded data removed]",
      "text/plain": [
       "<Figure size 640x480 with 1 Axes>"
      ]
     },
     "metadata": {},
     "output_type": "display_data"
    }
   ],
   "source": [
    "display(df_cycpdb_all['n_mono'].hist())"
   ]
  },
  {
   "attachments": {},
   "cell_type": "markdown",
   "id": "32dfe32f",
   "metadata": {},
   "source": [
    "# Linear peptides"
   ]
  },
  {
   "cell_type": "code",
   "execution_count": 6,
   "id": "6e0c109b",
   "metadata": {},
   "outputs": [],
   "source": [
    "# check if all amino acids are natural\n",
    "def check_if_all_aas_are_natural(aa_seq):\n",
    "    return all([aa in 'ACDEFGHIKLMNPQRSTVWY' for aa in aa_seq])\n",
    "\n",
    "def get_is_natural_aa(df):\n",
    "    return [check_if_all_aas_are_natural(seq) for seq in df.aa_seq]\n",
    "\n",
    "def get_helm_from_aa_seq(aa_seq):\n",
    "    aa_seq = '.'.join(aa_seq)\n",
    "    return f'PEPTIDE1{{{aa_seq}}}$$$$'\n",
    "\n",
    "def get_linpep_smi_from_aa_seq(aa_seq):\n",
    "    if 'X' in aa_seq:\n",
    "        return None\n",
    "    \n",
    "    mol = Chem.MolFromSequence(aa_seq)\n",
    "    if mol:\n",
    "        return Chem.MolToSmiles(mol)\n",
    "    else:\n",
    "        return None"
   ]
  },
  {
   "attachments": {},
   "cell_type": "markdown",
   "id": "fd072317",
   "metadata": {},
   "source": [
    "## CPP924"
   ]
  },
  {
   "cell_type": "code",
   "execution_count": 7,
   "id": "cd7ef4cb",
   "metadata": {},
   "outputs": [
    {
     "data": {
      "text/html": [
       "<div>\n",
       "<style scoped>\n",
       "    .dataframe tbody tr th:only-of-type {\n",
       "        vertical-align: middle;\n",
       "    }\n",
       "\n",
       "    .dataframe tbody tr th {\n",
       "        vertical-align: top;\n",
       "    }\n",
       "\n",
       "    .dataframe thead th {\n",
       "        text-align: right;\n",
       "    }\n",
       "</style>\n",
       "<table border=\"1\" class=\"dataframe\">\n",
       "  <thead>\n",
       "    <tr style=\"text-align: right;\">\n",
       "      <th></th>\n",
       "      <th>smi</th>\n",
       "      <th>helm</th>\n",
       "      <th>aa_seq</th>\n",
       "      <th>n_mono</th>\n",
       "      <th>is_cpp</th>\n",
       "    </tr>\n",
       "  </thead>\n",
       "  <tbody>\n",
       "    <tr>\n",
       "      <th>0</th>\n",
       "      <td>CC[C@H](C)[C@H](NC(=O)[C@H](Cc1ccccc1)NC(=O)[C@H](CO)NC(=O)[C@H](Cc1ccc(O)cc1)NC(=O)[C@H](CCC(=O)O)NC(=O)[C@H](CCSC)NC(=O)[C@H](CC(N)=O)NC(=O)[C@H](CCSC)NC(=O)[C@H](CCSC)NC(=O)CNC(=O)CNC(=O)[C@H](Cc1c[nH]c2ccccc12)NC(=O)[C@H](C)NC(=O)[C@@H]1CCCN1C(=O)[C@H](CCCCN)NC(=O)[C@@H](NC(=O)[C@H](CC(C)C)NC(=O)[C@@H]1CCCN1C(=O)[C@H](C)NC(=O)[C@H](CCSC)NC(=O)[C@H](CS)NC(=O)[C@H](Cc1ccc(O)cc1)NC(=O)[C@H](CS)NC(=O)[C@H](CCC(N)=O)NC(=O)[C@H](Cc1c[nH]cn1)NC(=O)[C@H](CO)NC(=O)[C@H](CCC(N)=O)NC(=O)[C@H](CCCCN)NC(=O)[C@H](Cc1ccc(O)cc1)NC(=O)[C@H](C)NC(=O)[C@H](CCC(N)=O)NC(=O)[C@H](CC(N)=O)NC(=O)[C@H](C)NC(=O)[C@@H](NC(=O)[C@H](CC(N)=O)NC(=O)[C@H](CS)NC(=O)[C@@H](N)Cc1ccccc1)C(C)C)[C@@H](C)O)C(=O)N[C@@H](Cc1ccc(O)cc1)C(=O)N[C@@H](Cc1ccc(O)cc1)C(=O)O</td>\n",
       "      <td>PEPTIDE1{F.C.N.V.A.N.Q.A.Y.K.Q.S.H.Q.C.Y.C.M.A.P.L.T.K.P.A.W.G.G.M.M.N.M.E.Y.S.F.I.Y.Y}$$$$</td>\n",
       "      <td>FCNVANQAYKQSHQCYCMAPLTKPAWGGMMNMEYSFIYY</td>\n",
       "      <td>39</td>\n",
       "      <td>1</td>\n",
       "    </tr>\n",
       "    <tr>\n",
       "      <th>1</th>\n",
       "      <td>CC[C@H](C)[C@H](NC(=O)CNC(=O)[C@H](CCC(N)=O)NC(=O)[C@H](CCCNC(=N)N)NC(=O)[C@H](Cc1ccccc1)NC(=O)[C@H](CC(=O)O)NC(=O)[C@@H](NC(=O)[C@H](CCSC)NC(=O)[C@@H]1CCCN1C(=O)[C@H](CC(N)=O)NC(=O)[C@H](CCCCN)NC(=O)[C@H](Cc1ccc(O)cc1)NC(=O)[C@H](Cc1ccc(O)cc1)NC(=O)[C@@H](N)CCC(N)=O)C(C)C)C(=O)O</td>\n",
       "      <td>PEPTIDE1{Q.Y.Y.K.N.P.M.V.D.F.R.Q.G.I}$$$$</td>\n",
       "      <td>QYYKNPMVDFRQGI</td>\n",
       "      <td>14</td>\n",
       "      <td>1</td>\n",
       "    </tr>\n",
       "    <tr>\n",
       "      <th>2</th>\n",
       "      <td>CC[C@H](C)[C@H](NC(=O)[C@H](CC(C)C)NC(=O)[C@@H](NC(=O)[C@H](CCC(N)=O)NC(=O)[C@@H](NC(=O)[C@H](CCC(=O)O)NC(=O)[C@H](CO)NC(=O)[C@H](CCSC)NC(=O)[C@H](Cc1ccccc1)NC(=O)[C@H](CC(N)=O)NC(=O)[C@@H](N)CCCNC(=N)N)C(C)C)[C@@H](C)O)C(=O)N[C@H](C(=O)N[C@@H](CCCNC(=N)N)C(=O)N[C@@H](Cc1ccccc1)C(=O)O)C(C)C</td>\n",
       "      <td>PEPTIDE1{R.N.F.M.S.E.V.Q.T.L.I.V.R.F}$$$$</td>\n",
       "      <td>RNFMSEVQTLIVRF</td>\n",
       "      <td>14</td>\n",
       "      <td>1</td>\n",
       "    </tr>\n",
       "    <tr>\n",
       "      <th>3</th>\n",
       "      <td>CC(C)C[C@H](NC(=O)[C@H](CCCCN)NC(=O)CNC(=O)[C@H](CC(C)C)NC(=O)[C@@H](NC(=O)[C@@H](NC(=O)[C@H](CC(C)C)NC(=O)[C@H](CCC(=O)O)NC(=O)[C@@H](N)Cc1c[nH]c2ccccc12)C(C)C)C(C)C)C(=O)N[C@@H](Cc1ccc(O)cc1)C(=O)NCC(=O)N[C@@H](CCCNC(=N)N)C(=O)N[C@@H](CCCCN)C(=O)N[C@@H](CCCCN)C(=O)N[C@@H](CCCNC(=N)N)C(=O)N[C@@H](CCCNC(=N)N)C(=O)N[C@@H](CCC(N)=O)C(=O)N[C@@H](CCCNC(=N)N)C(=O)N[C@@H](CCCNC(=N)N)C(=O)N[C@@H](CCCNC(=N)N)C(=O)O</td>\n",
       "      <td>PEPTIDE1{W.E.L.V.V.L.G.K.L.Y.G.R.K.K.R.R.Q.R.R.R}$$$$</td>\n",
       "      <td>WELVVLGKLYGRKKRRQRRR</td>\n",
       "      <td>20</td>\n",
       "      <td>0</td>\n",
       "    </tr>\n",
       "    <tr>\n",
       "      <th>4</th>\n",
       "      <td>CSCC[C@H](NC(=O)[C@@H](NC(=O)CNC(=O)[C@H](CO)NC(=O)[C@@H](N)CC(N)=O)[C@@H](C)O)C(=O)N[C@@H](CCC(N)=O)C(=O)N[C@@H](CO)C(=O)N[C@@H](C)C(=O)N[C@@H](CO)C(=O)N[C@@H](CCCNC(=N)N)C(=O)N[C@@H](C)C(=O)N[C@H](C(=O)O)[C@@H](C)O</td>\n",
       "      <td>PEPTIDE1{N.S.G.T.M.Q.S.A.S.R.A.T}$$$$</td>\n",
       "      <td>NSGTMQSASRAT</td>\n",
       "      <td>12</td>\n",
       "      <td>0</td>\n",
       "    </tr>\n",
       "  </tbody>\n",
       "</table>\n",
       "</div>"
      ],
      "text/plain": [
       "                                                                                                                                                                                                                                                                                                                                                                                                                                                                                                                                                                                                                                                                                                                                                                   smi  \\\n",
       "0  CC[C@H](C)[C@H](NC(=O)[C@H](Cc1ccccc1)NC(=O)[C@H](CO)NC(=O)[C@H](Cc1ccc(O)cc1)NC(=O)[C@H](CCC(=O)O)NC(=O)[C@H](CCSC)NC(=O)[C@H](CC(N)=O)NC(=O)[C@H](CCSC)NC(=O)[C@H](CCSC)NC(=O)CNC(=O)CNC(=O)[C@H](Cc1c[nH]c2ccccc12)NC(=O)[C@H](C)NC(=O)[C@@H]1CCCN1C(=O)[C@H](CCCCN)NC(=O)[C@@H](NC(=O)[C@H](CC(C)C)NC(=O)[C@@H]1CCCN1C(=O)[C@H](C)NC(=O)[C@H](CCSC)NC(=O)[C@H](CS)NC(=O)[C@H](Cc1ccc(O)cc1)NC(=O)[C@H](CS)NC(=O)[C@H](CCC(N)=O)NC(=O)[C@H](Cc1c[nH]cn1)NC(=O)[C@H](CO)NC(=O)[C@H](CCC(N)=O)NC(=O)[C@H](CCCCN)NC(=O)[C@H](Cc1ccc(O)cc1)NC(=O)[C@H](C)NC(=O)[C@H](CCC(N)=O)NC(=O)[C@H](CC(N)=O)NC(=O)[C@H](C)NC(=O)[C@@H](NC(=O)[C@H](CC(N)=O)NC(=O)[C@H](CS)NC(=O)[C@@H](N)Cc1ccccc1)C(C)C)[C@@H](C)O)C(=O)N[C@@H](Cc1ccc(O)cc1)C(=O)N[C@@H](Cc1ccc(O)cc1)C(=O)O   \n",
       "1                                                                                                                                                                                                                                                                                                                                                                                                                                                                             CC[C@H](C)[C@H](NC(=O)CNC(=O)[C@H](CCC(N)=O)NC(=O)[C@H](CCCNC(=N)N)NC(=O)[C@H](Cc1ccccc1)NC(=O)[C@H](CC(=O)O)NC(=O)[C@@H](NC(=O)[C@H](CCSC)NC(=O)[C@@H]1CCCN1C(=O)[C@H](CC(N)=O)NC(=O)[C@H](CCCCN)NC(=O)[C@H](Cc1ccc(O)cc1)NC(=O)[C@H](Cc1ccc(O)cc1)NC(=O)[C@@H](N)CCC(N)=O)C(C)C)C(=O)O   \n",
       "2                                                                                                                                                                                                                                                                                                                                                                                                                                                                  CC[C@H](C)[C@H](NC(=O)[C@H](CC(C)C)NC(=O)[C@@H](NC(=O)[C@H](CCC(N)=O)NC(=O)[C@@H](NC(=O)[C@H](CCC(=O)O)NC(=O)[C@H](CO)NC(=O)[C@H](CCSC)NC(=O)[C@H](Cc1ccccc1)NC(=O)[C@H](CC(N)=O)NC(=O)[C@@H](N)CCCNC(=N)N)C(C)C)[C@@H](C)O)C(=O)N[C@H](C(=O)N[C@@H](CCCNC(=N)N)C(=O)N[C@@H](Cc1ccccc1)C(=O)O)C(C)C   \n",
       "3                                                                                                                                                                                                                                                                                                                                           CC(C)C[C@H](NC(=O)[C@H](CCCCN)NC(=O)CNC(=O)[C@H](CC(C)C)NC(=O)[C@@H](NC(=O)[C@@H](NC(=O)[C@H](CC(C)C)NC(=O)[C@H](CCC(=O)O)NC(=O)[C@@H](N)Cc1c[nH]c2ccccc12)C(C)C)C(C)C)C(=O)N[C@@H](Cc1ccc(O)cc1)C(=O)NCC(=O)N[C@@H](CCCNC(=N)N)C(=O)N[C@@H](CCCCN)C(=O)N[C@@H](CCCCN)C(=O)N[C@@H](CCCNC(=N)N)C(=O)N[C@@H](CCCNC(=N)N)C(=O)N[C@@H](CCC(N)=O)C(=O)N[C@@H](CCCNC(=N)N)C(=O)N[C@@H](CCCNC(=N)N)C(=O)N[C@@H](CCCNC(=N)N)C(=O)O   \n",
       "4                                                                                                                                                                                                                                                                                                                                                                                                                                                                                                                                             CSCC[C@H](NC(=O)[C@@H](NC(=O)CNC(=O)[C@H](CO)NC(=O)[C@@H](N)CC(N)=O)[C@@H](C)O)C(=O)N[C@@H](CCC(N)=O)C(=O)N[C@@H](CO)C(=O)N[C@@H](C)C(=O)N[C@@H](CO)C(=O)N[C@@H](CCCNC(=N)N)C(=O)N[C@@H](C)C(=O)N[C@H](C(=O)O)[C@@H](C)O   \n",
       "\n",
       "                                                                                          helm  \\\n",
       "0  PEPTIDE1{F.C.N.V.A.N.Q.A.Y.K.Q.S.H.Q.C.Y.C.M.A.P.L.T.K.P.A.W.G.G.M.M.N.M.E.Y.S.F.I.Y.Y}$$$$   \n",
       "1                                                    PEPTIDE1{Q.Y.Y.K.N.P.M.V.D.F.R.Q.G.I}$$$$   \n",
       "2                                                    PEPTIDE1{R.N.F.M.S.E.V.Q.T.L.I.V.R.F}$$$$   \n",
       "3                                        PEPTIDE1{W.E.L.V.V.L.G.K.L.Y.G.R.K.K.R.R.Q.R.R.R}$$$$   \n",
       "4                                                        PEPTIDE1{N.S.G.T.M.Q.S.A.S.R.A.T}$$$$   \n",
       "\n",
       "                                    aa_seq  n_mono  is_cpp  \n",
       "0  FCNVANQAYKQSHQCYCMAPLTKPAWGGMMNMEYSFIYY      39       1  \n",
       "1                           QYYKNPMVDFRQGI      14       1  \n",
       "2                           RNFMSEVQTLIVRF      14       1  \n",
       "3                     WELVVLGKLYGRKKRRQRRR      20       0  \n",
       "4                             NSGTMQSASRAT      12       0  "
      ]
     },
     "metadata": {},
     "output_type": "display_data"
    }
   ],
   "source": [
    "# train = True\n",
    "\n",
    "if train:\n",
    "    df_train_cpp924 = pd.read_csv('data/CPP924/train_ori.csv', header=None, names=['aa_seq', 'is_cpp'])\n",
    "    df_test_cpp924 = pd.read_csv('data/CPP924/test_ori.csv', header=None, names=['aa_seq', 'is_cpp'])\n",
    "    display(df_train_cpp924.columns)\n",
    "\n",
    "    # df_train_cpp924['is_natural'] = get_is_natural_aa(df_train_cpp924)\n",
    "    # df_test_cpp924['is_natural'] = get_is_natural_aa(df_test_cpp924)\n",
    "\n",
    "    # display(df_train_cpp924[df_train_cpp924.is_natural == False])\n",
    "    # display(df_test_cpp924[df_test_cpp924.is_natural == False])\n",
    "\n",
    "    df_train_cpp924['helm'] = [get_helm_from_aa_seq(seq) for seq in df_train_cpp924.aa_seq]\n",
    "    df_test_cpp924['helm'] = [get_helm_from_aa_seq(seq) for seq in df_test_cpp924.aa_seq]\n",
    "\n",
    "    df_train_cpp924['smi'] = [get_linpep_smi_from_aa_seq(seq) for seq in df_train_cpp924.aa_seq]\n",
    "    df_test_cpp924['smi'] = [get_linpep_smi_from_aa_seq(seq) for seq in df_test_cpp924.aa_seq]\n",
    "\n",
    "    df_train_cpp924['n_mono'] = [count_n_monomers(helm) for helm in df_train_cpp924.helm]\n",
    "    df_test_cpp924['n_mono'] = [count_n_monomers(helm) for helm in df_test_cpp924.helm]\n",
    "\n",
    "    df_train_cpp924[['smi', 'helm', 'aa_seq', 'n_mono',  'is_cpp']].to_csv('data/CPP924/train.csv', index=False)\n",
    "    df_test_cpp924[['smi', 'helm', 'aa_seq', 'n_mono',  'is_cpp']].to_csv('data/CPP924/test.csv', index=False)\n",
    "else:\n",
    "    df_train_cpp924 = pd.read_csv('data/CPP924/train.csv')\n",
    "    df_test_cpp924 = pd.read_csv('data/CPP924/test.csv')\n",
    "\n",
    "display(df_train_cpp924.head())"
   ]
  },
  {
   "cell_type": "code",
   "execution_count": 8,
   "id": "7fdcc81d",
   "metadata": {},
   "outputs": [
    {
     "data": {
      "text/plain": [
       "<AxesSubplot:>"
      ]
     },
     "metadata": {},
     "output_type": "display_data"
    },
    {
     "data": {
      "image/png": "[encoded data removed]",
      "text/plain": [
       "<Figure size 640x480 with 1 Axes>"
      ]
     },
     "metadata": {},
     "output_type": "display_data"
    }
   ],
   "source": [
    "display(df_train_cpp924['n_mono'].hist())"
   ]
  },
  {
   "cell_type": "code",
   "execution_count": 9,
   "id": "80db901d",
   "metadata": {},
   "outputs": [
    {
     "data": {
      "text/plain": [
       "<AxesSubplot:>"
      ]
     },
     "metadata": {},
     "output_type": "display_data"
    },
    {
     "data": {
      "image/png": "[encoded data removed]",
      "text/plain": [
       "<Figure size 640x480 with 1 Axes>"
      ]
     },
     "metadata": {},
     "output_type": "display_data"
    }
   ],
   "source": [
    "df_train_cpp924['smi_len'] = df_train_cpp924.smi.apply(lambda x: len(x) if x else 0)\n",
    "df_test_cpp924['smi_len'] = df_test_cpp924.smi.apply(lambda x: len(x) if x else 0)\n",
    "\n",
    "display(df_train_cpp924['smi_len'].hist())"
   ]
  },
  {
   "cell_type": "code",
   "execution_count": 10,
   "id": "689af715",
   "metadata": {},
   "outputs": [
    {
     "data": {
      "text/plain": [
       "(1295, 1228)"
      ]
     },
     "execution_count": 10,
     "metadata": {},
     "output_type": "execute_result"
    }
   ],
   "source": [
    "df_train_cpp924.smi_len.max(), df_test_cpp924.smi_len.max()"
   ]
  },
  {
   "attachments": {},
   "cell_type": "markdown",
   "id": "9fb3a8f2",
   "metadata": {},
   "source": [
    "## MLCPP 2.0"
   ]
  },
  {
   "cell_type": "code",
   "execution_count": 11,
   "id": "50435be6",
   "metadata": {},
   "outputs": [
    {
     "data": {
      "text/html": [
       "<div>\n",
       "<style scoped>\n",
       "    .dataframe tbody tr th:only-of-type {\n",
       "        vertical-align: middle;\n",
       "    }\n",
       "\n",
       "    .dataframe tbody tr th {\n",
       "        vertical-align: top;\n",
       "    }\n",
       "\n",
       "    .dataframe thead th {\n",
       "        text-align: right;\n",
       "    }\n",
       "</style>\n",
       "<table border=\"1\" class=\"dataframe\">\n",
       "  <thead>\n",
       "    <tr style=\"text-align: right;\">\n",
       "      <th></th>\n",
       "      <th>smi</th>\n",
       "      <th>helm</th>\n",
       "      <th>aa_seq</th>\n",
       "      <th>n_mono</th>\n",
       "      <th>is_cpp</th>\n",
       "    </tr>\n",
       "  </thead>\n",
       "  <tbody>\n",
       "    <tr>\n",
       "      <th>0</th>\n",
       "      <td>CC(C)C[C@H](NC(=O)[C@H](CCCCN)NC(=O)[C@H](CCCCN)NC(=O)[C@H](CCCNC(=N)N)NC(=O)[C@H](CCCCN)NC(=O)[C@H](Cc1c[nH]cn1)NC(=O)[C@H](CCCCN)NC(=O)CNC(=O)[C@H](CCCCN)NC(=O)[C@H](CCCNC(=N)N)NC(=O)CN)C(=O)N1CCC[C@H]1C(=O)O</td>\n",
       "      <td>PEPTIDE1{G.R.K.G.K.H.K.R.K.K.L.P}$$$$</td>\n",
       "      <td>GRKGKHKRKKLP</td>\n",
       "      <td>12</td>\n",
       "      <td>1</td>\n",
       "    </tr>\n",
       "    <tr>\n",
       "      <th>1</th>\n",
       "      <td>CSCC[C@H](NC(=O)[C@@H]1CCCN1C(=O)[C@H](CCC(N)=O)NC(=O)CNC(=O)[C@@H]1CCCN1C(=O)[C@H](CCCCN)NC(=O)[C@H](CC(C)C)NC(=O)[C@H](CCC(N)=O)NC(=O)[C@H](CC(C)C)NC(=O)[C@H](Cc1c[nH]c2ccccc12)NC(=O)[C@H](Cc1c[nH]cn1)NC(=O)[C@H](Cc1c[nH]c2ccccc12)NC(=O)[C@H](Cc1ccccc1)NC(=O)[C@H](CCCNC(=N)N)NC(=O)[C@H](CC(N)=O)NC(=O)[C@H](CC(C)C)NC(=O)[C@H](Cc1ccccc1)NC(=O)[C@@H](N)CCCCN)C(=O)N[C@@H](Cc1ccc(O)cc1)C(=O)O</td>\n",
       "      <td>PEPTIDE1{K.F.L.N.R.F.W.H.W.L.Q.L.K.P.G.Q.P.M.Y}$$$$</td>\n",
       "      <td>KFLNRFWHWLQLKPGQPMY</td>\n",
       "      <td>19</td>\n",
       "      <td>1</td>\n",
       "    </tr>\n",
       "    <tr>\n",
       "      <th>2</th>\n",
       "      <td>CC(C)[C@H](NC(=O)[C@H](Cc1c[nH]c2ccccc12)NC(=O)[C@H](CCC(N)=O)NC(=O)[C@H](Cc1ccccc1)NC(=O)[C@H](Cc1c[nH]c2ccccc12)NC(=O)[C@H](C)NC(=O)[C@H](CCC(N)=O)NC(=O)[C@@H]1CCCN1C(=O)[C@@H](NC(=O)[C@H](Cc1c[nH]c2ccccc12)NC(=O)[C@@H](NC(=O)[C@@H](NC(=O)CNC(=O)[C@@H]1CCCN1C(=O)CNC(=O)[C@H](CCCNC(=N)N)NC(=O)[C@H](CCCNC(=N)N)NC(=O)[C@H](CCCNC(=N)N)NC(=O)[C@H](CCCNC(=N)N)NC(=O)[C@H](CCCNC(=N)N)NC(=O)[C@H](CCCNC(=N)N)NC(=O)[C@H](CCCNC(=N)N)NC(=O)[C@H](CCCNC(=N)N)NC(=O)[C@@H](N)CCCNC(=N)N)C(C)C)[C@@H](C)O)[C@@H](C)O)C(=O)O</td>\n",
       "      <td>PEPTIDE1{R.R.R.R.R.R.R.R.R.G.P.G.V.T.W.T.P.Q.A.W.F.Q.W.V}$$$$</td>\n",
       "      <td>RRRRRRRRRGPGVTWTPQAWFQWV</td>\n",
       "      <td>24</td>\n",
       "      <td>1</td>\n",
       "    </tr>\n",
       "    <tr>\n",
       "      <th>3</th>\n",
       "      <td>CC(C)C[C@H](NC(=O)CNC(=O)[C@@H](NC(=O)[C@H](CC(C)C)NC(=O)[C@H](C)NC(=O)[C@H](CCC(=O)O)NC(=O)[C@H](C)NC(=O)[C@H](C)NC(=O)[C@H](C)NC(=O)[C@H](CO)NC(=O)[C@H](CC(C)C)NC(=O)[C@@H](NC(=O)[C@H](CC(C)C)NC(=O)[C@H](CC(N)=O)NC(=O)[C@H](CC(C)C)NC(=O)[C@H](CCCCN)NC(=O)[C@@H](NC(=O)[C@@H]1CCCN1C(=O)[C@H](CC(=O)O)NC(=O)[C@@H](NC(=O)[C@H](CCCCN)NC(=O)[C@H](CCC(=O)O)NC(=O)[C@H](C)N)C(C)C)C(C)C)[C@@H](C)O)[C@@H](C)O)C(=O)NCC(=O)N[C@@H](CC(=O)O)C(=O)N[C@@H](CCCCN)C(=O)O</td>\n",
       "      <td>PEPTIDE1{A.E.K.V.D.P.V.K.L.N.L.T.L.S.A.A.A.E.A.L.T.G.L.G.D.K}$$$$</td>\n",
       "      <td>AEKVDPVKLNLTLSAAAEALTGLGDK</td>\n",
       "      <td>26</td>\n",
       "      <td>1</td>\n",
       "    </tr>\n",
       "    <tr>\n",
       "      <th>4</th>\n",
       "      <td>CC(C)C[C@H](NC(=O)CN)C(=O)N[C@@H](CCCCN)C(=O)N[C@@H](CCCCN)C(=O)N[C@@H](CC(C)C)C(=O)N[C@@H](C)C(=O)N[C@@H](CCCNC(=N)N)C(=O)N[C@@H](CC(C)C)C(=O)N[C@@H](Cc1ccccc1)C(=O)N[C@@H](Cc1c[nH]cn1)C(=O)N[C@@H](CCCCN)C(=O)N[C@@H](CC(C)C)C(=O)N[C@@H](CC(C)C)C(=O)N[C@@H](CCCCN)C(=O)N[C@@H](CC(C)C)C(=O)NCC(=O)N[C@@H](CS)C(=O)O</td>\n",
       "      <td>PEPTIDE1{G.L.K.K.L.A.R.L.F.H.K.L.L.K.L.G.C}$$$$</td>\n",
       "      <td>GLKKLARLFHKLLKLGC</td>\n",
       "      <td>17</td>\n",
       "      <td>1</td>\n",
       "    </tr>\n",
       "  </tbody>\n",
       "</table>\n",
       "</div>"
      ],
      "text/plain": [
       "                                                                                                                                                                                                                                                                                                                                                                                                                                                                                                                              smi  \\\n",
       "0                                                                                                                                                                                                                                                                                                              CC(C)C[C@H](NC(=O)[C@H](CCCCN)NC(=O)[C@H](CCCCN)NC(=O)[C@H](CCCNC(=N)N)NC(=O)[C@H](CCCCN)NC(=O)[C@H](Cc1c[nH]cn1)NC(=O)[C@H](CCCCN)NC(=O)CNC(=O)[C@H](CCCCN)NC(=O)[C@H](CCCNC(=N)N)NC(=O)CN)C(=O)N1CCC[C@H]1C(=O)O   \n",
       "1                                                                                                                        CSCC[C@H](NC(=O)[C@@H]1CCCN1C(=O)[C@H](CCC(N)=O)NC(=O)CNC(=O)[C@@H]1CCCN1C(=O)[C@H](CCCCN)NC(=O)[C@H](CC(C)C)NC(=O)[C@H](CCC(N)=O)NC(=O)[C@H](CC(C)C)NC(=O)[C@H](Cc1c[nH]c2ccccc12)NC(=O)[C@H](Cc1c[nH]cn1)NC(=O)[C@H](Cc1c[nH]c2ccccc12)NC(=O)[C@H](Cc1ccccc1)NC(=O)[C@H](CCCNC(=N)N)NC(=O)[C@H](CC(N)=O)NC(=O)[C@H](CC(C)C)NC(=O)[C@H](Cc1ccccc1)NC(=O)[C@@H](N)CCCCN)C(=O)N[C@@H](Cc1ccc(O)cc1)C(=O)O   \n",
       "2  CC(C)[C@H](NC(=O)[C@H](Cc1c[nH]c2ccccc12)NC(=O)[C@H](CCC(N)=O)NC(=O)[C@H](Cc1ccccc1)NC(=O)[C@H](Cc1c[nH]c2ccccc12)NC(=O)[C@H](C)NC(=O)[C@H](CCC(N)=O)NC(=O)[C@@H]1CCCN1C(=O)[C@@H](NC(=O)[C@H](Cc1c[nH]c2ccccc12)NC(=O)[C@@H](NC(=O)[C@@H](NC(=O)CNC(=O)[C@@H]1CCCN1C(=O)CNC(=O)[C@H](CCCNC(=N)N)NC(=O)[C@H](CCCNC(=N)N)NC(=O)[C@H](CCCNC(=N)N)NC(=O)[C@H](CCCNC(=N)N)NC(=O)[C@H](CCCNC(=N)N)NC(=O)[C@H](CCCNC(=N)N)NC(=O)[C@H](CCCNC(=N)N)NC(=O)[C@H](CCCNC(=N)N)NC(=O)[C@@H](N)CCCNC(=N)N)C(C)C)[C@@H](C)O)[C@@H](C)O)C(=O)O   \n",
       "3                                                        CC(C)C[C@H](NC(=O)CNC(=O)[C@@H](NC(=O)[C@H](CC(C)C)NC(=O)[C@H](C)NC(=O)[C@H](CCC(=O)O)NC(=O)[C@H](C)NC(=O)[C@H](C)NC(=O)[C@H](C)NC(=O)[C@H](CO)NC(=O)[C@H](CC(C)C)NC(=O)[C@@H](NC(=O)[C@H](CC(C)C)NC(=O)[C@H](CC(N)=O)NC(=O)[C@H](CC(C)C)NC(=O)[C@H](CCCCN)NC(=O)[C@@H](NC(=O)[C@@H]1CCCN1C(=O)[C@H](CC(=O)O)NC(=O)[C@@H](NC(=O)[C@H](CCCCN)NC(=O)[C@H](CCC(=O)O)NC(=O)[C@H](C)N)C(C)C)C(C)C)[C@@H](C)O)[C@@H](C)O)C(=O)NCC(=O)N[C@@H](CC(=O)O)C(=O)N[C@@H](CCCCN)C(=O)O   \n",
       "4                                                                                                                                                                                                       CC(C)C[C@H](NC(=O)CN)C(=O)N[C@@H](CCCCN)C(=O)N[C@@H](CCCCN)C(=O)N[C@@H](CC(C)C)C(=O)N[C@@H](C)C(=O)N[C@@H](CCCNC(=N)N)C(=O)N[C@@H](CC(C)C)C(=O)N[C@@H](Cc1ccccc1)C(=O)N[C@@H](Cc1c[nH]cn1)C(=O)N[C@@H](CCCCN)C(=O)N[C@@H](CC(C)C)C(=O)N[C@@H](CC(C)C)C(=O)N[C@@H](CCCCN)C(=O)N[C@@H](CC(C)C)C(=O)NCC(=O)N[C@@H](CS)C(=O)O   \n",
       "\n",
       "                                                                helm  \\\n",
       "0                              PEPTIDE1{G.R.K.G.K.H.K.R.K.K.L.P}$$$$   \n",
       "1                PEPTIDE1{K.F.L.N.R.F.W.H.W.L.Q.L.K.P.G.Q.P.M.Y}$$$$   \n",
       "2      PEPTIDE1{R.R.R.R.R.R.R.R.R.G.P.G.V.T.W.T.P.Q.A.W.F.Q.W.V}$$$$   \n",
       "3  PEPTIDE1{A.E.K.V.D.P.V.K.L.N.L.T.L.S.A.A.A.E.A.L.T.G.L.G.D.K}$$$$   \n",
       "4                    PEPTIDE1{G.L.K.K.L.A.R.L.F.H.K.L.L.K.L.G.C}$$$$   \n",
       "\n",
       "                       aa_seq  n_mono  is_cpp  \n",
       "0                GRKGKHKRKKLP      12       1  \n",
       "1         KFLNRFWHWLQLKPGQPMY      19       1  \n",
       "2    RRRRRRRRRGPGVTWTPQAWFQWV      24       1  \n",
       "3  AEKVDPVKLNLTLSAAAEALTGLGDK      26       1  \n",
       "4           GLKKLARLFHKLLKLGC      17       1  "
      ]
     },
     "metadata": {},
     "output_type": "display_data"
    }
   ],
   "source": [
    "# train = True\n",
    "\n",
    "if train:\n",
    "    df_mlcpp2_train = pd.read_csv('data/MLCPP2.0/Layer1_training.csv', header=None, names=['pos/neg', 'id','aa_seq'])\n",
    "    df_mlcpp2_test = pd.read_csv('data/MLCPP2.0/Layer1_Independent.csv', header=None, names=['pos/neg', 'id','aa_seq'])\n",
    "\n",
    "    df_mlcpp2_train['is_cpp'] = df_mlcpp2_train['pos/neg'].apply(lambda x: 1 if x == 'Positive' else 0)\n",
    "    df_mlcpp2_test['is_cpp'] = df_mlcpp2_test['pos/neg'].apply(lambda x: 1 if x == 'Positive' else 0)\n",
    "\n",
    "    df_mlcpp2_train['helm'] = [get_helm_from_aa_seq(seq) for seq in df_mlcpp2_train.aa_seq]\n",
    "    df_mlcpp2_test['helm'] = [get_helm_from_aa_seq(seq) for seq in df_mlcpp2_test.aa_seq]\n",
    "\n",
    "    df_mlcpp2_train['smi'] = [get_linpep_smi_from_aa_seq(seq) for seq in df_mlcpp2_train.aa_seq]\n",
    "    df_mlcpp2_test['smi'] = [get_linpep_smi_from_aa_seq(seq) for seq in df_mlcpp2_test.aa_seq]\n",
    "\n",
    "    df_mlcpp2_train['n_mono'] = [count_n_monomers(helm) for helm in df_mlcpp2_train.helm]\n",
    "    df_mlcpp2_test['n_mono'] = [count_n_monomers(helm) for helm in df_mlcpp2_test.helm]\n",
    "\n",
    "    df_mlcpp2_train[['smi', 'helm', 'aa_seq', 'n_mono',  'is_cpp']].to_csv('data/MLCPP2.0/train.csv', index=False)\n",
    "    df_mlcpp2_test[['smi', 'helm', 'aa_seq', 'n_mono',  'is_cpp']].to_csv('data/MLCPP2.0/test.csv', index=False)\n",
    "else:\n",
    "    df_mlcpp2_train = pd.read_csv('data/MLCPP2.0/train.csv')\n",
    "    df_mlcpp2_test = pd.read_csv('data/MLCPP2.0/test.csv')\n",
    "\n",
    "display(df_mlcpp2_train.head())"
   ]
  },
  {
   "cell_type": "code",
   "execution_count": 12,
   "id": "39d3a2b9",
   "metadata": {},
   "outputs": [
    {
     "data": {
      "text/plain": [
       "<AxesSubplot:>"
      ]
     },
     "metadata": {},
     "output_type": "display_data"
    },
    {
     "data": {
      "image/png": "[encoded data removed]",
      "text/plain": [
       "<Figure size 640x480 with 1 Axes>"
      ]
     },
     "metadata": {},
     "output_type": "display_data"
    }
   ],
   "source": [
    "df_mlcpp2_train['smi_len'] = df_mlcpp2_train.smi.apply(lambda x: len(x) if x else 0)\n",
    "df_mlcpp2_test['smi_len'] = df_mlcpp2_test.smi.apply(lambda x: len(x) if x else 0)\n",
    "\n",
    "display(df_mlcpp2_train['smi_len'].hist())"
   ]
  },
  {
   "cell_type": "code",
   "execution_count": 13,
   "id": "07b47d76",
   "metadata": {},
   "outputs": [
    {
     "data": {
      "text/plain": [
       "(827, 1295)"
      ]
     },
     "execution_count": 13,
     "metadata": {},
     "output_type": "execute_result"
    }
   ],
   "source": [
    "df_mlcpp2_train['smi_len'].max(), df_mlcpp2_test['smi_len'].max()"
   ]
  },
  {
   "attachments": {},
   "cell_type": "markdown",
   "id": "120ed4fc",
   "metadata": {},
   "source": [
    "# Dataset to pretrain the SMILES BERT"
   ]
  },
  {
   "cell_type": "code",
   "execution_count": 6,
   "id": "50e9144b",
   "metadata": {},
   "outputs": [
    {
     "data": {
      "text/plain": [
       "(4978885, 4480996, 497889)"
      ]
     },
     "execution_count": 6,
     "metadata": {},
     "output_type": "execute_result"
    }
   ],
   "source": [
    "from sklearn.model_selection import train_test_split\n",
    "\n",
    "df_smi_pretrain = pd.read_csv('data/smi_pretrain/pretrain.csv', header=None, names=['smi'])\n",
    "train_data, valid_data = train_test_split(df_smi_pretrain, test_size=0.1, random_state=1)\n",
    "\n",
    "train_data.to_csv('data/smi_pretrain/train.csv', index=False)\n",
    "valid_data.to_csv('data/smi_pretrain/val.csv', index=False)\n",
    "\n",
    "len(df_smi_pretrain), len(train_data), len(valid_data)"
   ]
  },
  {
   "cell_type": "code",
   "execution_count": null,
   "id": "ef434007",
   "metadata": {},
   "outputs": [],
   "source": []
  }
 ],
 "metadata": {
  "kernelspec": {
   "display_name": "Python 3 (ipykernel)",
   "language": "python",
   "name": "python3"
  },
  "language_info": {
   "codemirror_mode": {
    "name": "ipython",
    "version": 3
   },
   "file_extension": ".py",
   "mimetype": "text/x-python",
   "name": "python",
   "nbconvert_exporter": "python",
   "pygments_lexer": "ipython3",
   "version": "3.7.12"
  },
  "toc-autonumbering": true,
  "toc-showmarkdowntxt": false
 },
 "nbformat": 4,
 "nbformat_minor": 5
}
